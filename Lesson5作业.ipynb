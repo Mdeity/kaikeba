{
 "cells": [
  {
   "cell_type": "code",
   "execution_count": 1,
   "metadata": {},
   "outputs": [],
   "source": [
    "class People:\n",
    "    def __init__(self, name, damage, hp):\n",
    "        self.name=name\n",
    "        self.damage=damage\n",
    "        self.hp=hp"
   ]
  },
  {
   "cell_type": "code",
   "execution_count": 2,
   "metadata": {},
   "outputs": [],
   "source": [
    "class Hero(People):\n",
    "    def __init__(self, name, damage, hp, country):\n",
    "        People.__init__(self, name, damage, hp)\n",
    "        self.country=country   \n",
    "        \n",
    "    def get_inf(self):\n",
    "        print(\"姓名：{}\".format(self.name))\n",
    "        print(\"攻击力：{}\".format(self.damage))\n",
    "        print(\"当前血量：{}\".format(self.hp))\n",
    "        print(\"阵营：{}\".format(self.country))\n",
    "\n",
    "    def attack(self,enemy):\n",
    "        print(self.name)\n",
    "        print(\"攻击力为：{}\".format(self.damage))\n",
    "        print(\"{}目前血量为：{}\".format(enemy.name, enemy.hp))\n",
    "        print(\"{}攻击{}\".format(self.name,enemy.name))\n",
    "        enemy.hp-=self.damage\n",
    "        print(\"{}剩余血量为：{}\".format(enemy.name, enemy.hp))\n",
    "        print(\"***********************************\")"
   ]
  },
  {
   "cell_type": "code",
   "execution_count": 3,
   "metadata": {},
   "outputs": [],
   "source": [
    "XB = People(\"小兵\", 1, 10)\n",
    "LB=Hero(\"吕布\", 20, 100, \"群雄\")\n",
    "ZF=Hero(\"张飞\", 10, 80, \"蜀国\")"
   ]
  },
  {
   "cell_type": "code",
   "execution_count": 4,
   "metadata": {},
   "outputs": [
    {
     "name": "stdout",
     "output_type": "stream",
     "text": [
      "姓名：张飞\n",
      "攻击力：10\n",
      "当前血量：80\n",
      "阵营：蜀国\n"
     ]
    }
   ],
   "source": [
    "ZF.get_inf()"
   ]
  },
  {
   "cell_type": "code",
   "execution_count": 5,
   "metadata": {},
   "outputs": [
    {
     "name": "stdout",
     "output_type": "stream",
     "text": [
      "张飞\n",
      "攻击力为：10\n",
      "吕布目前血量为：100\n",
      "张飞攻击吕布\n",
      "吕布剩余血量为：90\n",
      "***********************************\n"
     ]
    }
   ],
   "source": [
    "ZF.attack(LB)"
   ]
  },
  {
   "cell_type": "code",
   "execution_count": 6,
   "metadata": {},
   "outputs": [],
   "source": [
    "class Weapon:\n",
    "    def __init__(self, name, damage):\n",
    "        \"\"\"武器基础属性\"\"\"\n",
    "        # Please code here\n",
    "        self.name=name\n",
    "        self.damage=damage\n",
    "\n",
    "    def take_weapon(self, hro):\n",
    "        \"\"\"将武器给予英雄，英雄攻击力提升\"\"\"\n",
    "        print(\"将武器{}装备给英雄{}\".format(self.name, hro.name))\n",
    "        hro.damage+=self.damage\n",
    "        print(\"{}的攻击力变为{}\".format(hro.name, hro.damage))"
   ]
  },
  {
   "cell_type": "code",
   "execution_count": 7,
   "metadata": {},
   "outputs": [
    {
     "name": "stdout",
     "output_type": "stream",
     "text": [
      "将武器丈八蛇矛装备给英雄张飞\n",
      "张飞的攻击力变为13\n"
     ]
    }
   ],
   "source": [
    "# Please code here\n",
    "ZBSM=Weapon( \"丈八蛇矛\", 3 )\n",
    "ZBSM.take_weapon(ZF)"
   ]
  },
  {
   "cell_type": "code",
   "execution_count": 8,
   "metadata": {},
   "outputs": [
    {
     "name": "stdout",
     "output_type": "stream",
     "text": [
      "姓名：张飞\n",
      "攻击力：13\n",
      "当前血量：80\n",
      "阵营：蜀国\n",
      "张飞\n",
      "攻击力为：13\n",
      "吕布目前血量为：90\n",
      "张飞攻击吕布\n",
      "吕布剩余血量为：77\n",
      "***********************************\n"
     ]
    }
   ],
   "source": [
    "# Please code here\n",
    "ZF.get_inf()\n",
    "ZF.attack(LB)"
   ]
  },
  {
   "cell_type": "code",
   "execution_count": 11,
   "metadata": {},
   "outputs": [
    {
     "name": "stdout",
     "output_type": "stream",
     "text": [
      "张飞\n",
      "攻击力为：13\n",
      "吕布目前血量为：49\n",
      "张飞攻击吕布\n",
      "吕布剩余血量为：36\n",
      "***********************************\n",
      "hero1\n",
      "攻击力为：15\n",
      "吕布目前血量为：36\n",
      "hero1攻击吕布\n",
      "吕布剩余血量为：21\n",
      "***********************************\n",
      "吕布\n",
      "攻击力为：20\n",
      "张飞目前血量为：60\n",
      "吕布攻击张飞\n",
      "张飞剩余血量为：40\n",
      "***********************************\n",
      "吕布\n",
      "攻击力为：20\n",
      "hero1目前血量为：30\n",
      "吕布攻击hero1\n",
      "hero1剩余血量为：10\n",
      "***********************************\n",
      "第1轮攻击失败，请添加新英雄！\n",
      "\n",
      "张飞\n",
      "攻击力为：13\n",
      "吕布目前血量为：21\n",
      "张飞攻击吕布\n",
      "吕布剩余血量为：8\n",
      "***********************************\n",
      "hero1\n",
      "攻击力为：15\n",
      "吕布目前血量为：8\n",
      "hero1攻击吕布\n",
      "吕布剩余血量为：-7\n",
      "***********************************\n",
      "吕布被打败\n"
     ]
    }
   ],
   "source": [
    "# 补充完善本代码块（实现指定功能即可）\n",
    "i = 0\n",
    "heros = {'ZF':ZF}\n",
    "while 1:\n",
    "    i += 1\n",
    "    new_hero = Hero(\"hero\"+str(i), 15, 30, \"反吕联盟\")\n",
    "    heros[\"hero\"+str(i)] = new_hero \n",
    "    for h in list (heros):\n",
    "        if heros[h].hp > 0:\n",
    "            heros[h].attack(LB)\n",
    "        if LB.hp <= 0:\n",
    "            break\n",
    "    if LB.hp <= 0: \n",
    "        print(\"吕布被打败\")\n",
    "        break\n",
    "    \n",
    "    for j,h in enumerate(list(heros)):\n",
    "        if heros[h].hp > 0:\n",
    "            LB.attack(heros[h])\n",
    "        if j == len(heros) - 1:\n",
    "            print(\"第{}轮攻击失败，请添加新英雄！\\n\".format(i))\n",
    "            break\n",
    "        \n",
    "    \n",
    "    "
   ]
  },
  {
   "cell_type": "code",
   "execution_count": null,
   "metadata": {},
   "outputs": [],
   "source": []
  },
  {
   "cell_type": "code",
   "execution_count": null,
   "metadata": {},
   "outputs": [],
   "source": []
  }
 ],
 "metadata": {
  "kernelspec": {
   "display_name": "Python 3",
   "language": "python",
   "name": "python3"
  },
  "language_info": {
   "codemirror_mode": {
    "name": "ipython",
    "version": 3
   },
   "file_extension": ".py",
   "mimetype": "text/x-python",
   "name": "python",
   "nbconvert_exporter": "python",
   "pygments_lexer": "ipython3",
   "version": "3.7.3"
  }
 },
 "nbformat": 4,
 "nbformat_minor": 2
}
