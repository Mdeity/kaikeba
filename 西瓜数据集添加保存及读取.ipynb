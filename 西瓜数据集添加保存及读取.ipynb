import pandas as pd

dataset = \
"""色泽 根蒂 敲声 纹理 脐部 触感 密度 含糖率 好瓜
青绿 蜷缩 浊响 清晰 凹陷 硬滑 0.697 0.460 是 
乌黑 蜷缩 沉闷 清晰 凹陷 硬滑 0.774 0.376 是 
乌黑 蜷缩 浊响 清晰 凹陷 硬滑 0.634 0.264 是 
青绿 蜷缩 沉闷 清晰 凹陷 硬滑 0.608 0.318 是
浅白 蜷缩 浊响 清晰 凹陷 硬滑 0.556 0.215 是
青绿 稍蜷 浊响 清晰 稍凹 软粘 0.403 0.237 是
乌黑 稍蜷 浊响 稍糊 稍凹 软粘 0.481 0.149 是
乌黑 稍蜷 浊响 清晰 稍凹 硬滑 0.437 0.211 是
乌黑 稍蜷 沉闷 稍糊 稍凹 硬滑 0.666 0.091 否
青绿 硬挺 清脆 清晰 平坦 软粘 0.243 0.267 否
浅白 硬挺 清脆 模糊 平坦 硬滑 0.245 0.057 否
浅白 蜷缩 浊响 模糊 平坦 软粘 0.343 0.099 否
青绿 稍蜷 浊响 稍糊 凹陷 硬滑 0.639 0.161 否
浅白 稍蜷 沉闷 稍糊 凹陷 硬滑 0.657 0.198 否
乌黑 稍蜷 浊响 清晰 稍凹 软粘 0.360 0.370 否
浅白 蜷缩 浊响 模糊 平坦 硬滑 0.593 0.042 否
青绿 蜷缩 沉闷 稍糊 稍凹 硬滑 0.719 0.103 否"""

# write into a file
# your code here 
file = r'machine_learning.csv' # file path, you can change the direction  "r"是告诉计算机后面的\（在有地址的时候）不进行转译
with open(file,'w') as f:
    dataset = dataset.replace(' ',',')
    dataset = dataset.split('\n')
    lens = len(dataset)
    
    f.write('编号,'+dataset[0]+'\n')
    for i in range(1, lens):
        f.write(str(i) + ',' + dataset[i]+'\n')

# add a new data
# your code here
with open(file,'a') as f:
    f.write('18 青绿 硬挺 浊响 稍糊 平坦 硬滑 0.666 0.111 是'.replace(' ', ','))



# read file
# your code here
columns = []
datalist = []
with open(file) as f:
    for line in f.readlines():
        data = line.strip().split(',')
        datalist.append(data)
columns = datalist.pop(0)

# vertify
print(columns==['编号', '色泽', '根蒂', '敲声', '纹理', '脐部', '触感', '密度', '含糖率', '好瓜'])
print(datalist[-1]==['18','青绿', '硬挺', '浊响', '稍糊', '平坦', '硬滑', '0.666', '0.111', '是'])

# vertify 
df = pd.read_csv(file, index_col=False)
print(df.head())

# your code here
print('浅白')
print(list(filter(lambda x:x[1]=='浅白', datalist)))
print('密度>0.5')
print(list(filter(lambda x: float(x[7])>0.5, datalist)))

df = pd.read_csv(r'./machine_learning.csv',index_col=False)
print(df[df['色泽']=='浅白'])
print('*' * 60)
print(df[df.密度>0.5])
# 你对sql比较熟悉的化 pandas的逻辑就会很清楚
