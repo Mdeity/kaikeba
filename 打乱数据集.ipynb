{
 "cells": [
  {
   "cell_type": "code",
   "execution_count": null,
   "metadata": {},
   "outputs": [],
   "source": [
    "#打乱数据集.py\n",
    "\n",
    "import random\n",
    "x = ['快递太慢了！','不好吃','特别难吃','要齁死我了','很划算','下次还来','味道很不错！','香']\n",
    "y = ['差评','差评','差评','差评','好评','好评','好评','好评']\n",
    "\n",
    "def shuffle(x,y):\n",
    "    \n",
    "    xy = list(zip(x,y))\n",
    "   \n",
    "    random.seed(1) # 指定随机的种子\n",
    "\n",
    "    random.shuffle(xy)\n",
    "\n",
    "    x,y = zip(*xy)  # ('快递太慢了！', '差评')  ('很划算', '好评') ('不好吃', '差评')\n",
    "\n",
    "    return x,y\n",
    "    \n",
    "x,y = shuffle(x,y)\n",
    "for i,j in zip(x,y):\n",
    "    print(i,':',j)"
   ]
  }
 ],
 "metadata": {
  "kernelspec": {
   "display_name": "Python 3",
   "language": "python",
   "name": "python3"
  },
  "language_info": {
   "codemirror_mode": {
    "name": "ipython",
    "version": 3
   },
   "file_extension": ".py",
   "mimetype": "text/x-python",
   "name": "python",
   "nbconvert_exporter": "python",
   "pygments_lexer": "ipython3",
   "version": "3.7.3"
  }
 },
 "nbformat": 4,
 "nbformat_minor": 2
}
